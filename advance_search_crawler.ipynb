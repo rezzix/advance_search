{
  "nbformat": 4,
  "nbformat_minor": 0,
  "metadata": {
    "colab": {
      "name": "advance_search_crawler.ipynb",
      "provenance": [],
      "collapsed_sections": [],
      "authorship_tag": "ABX9TyOeLg8POS9thRslOIDbE/Er"
    },
    "kernelspec": {
      "name": "python3",
      "display_name": "Python 3"
    },
    "language_info": {
      "name": "python"
    }
  },
  "cells": [
    {
      "cell_type": "code",
      "execution_count": null,
      "metadata": {
        "id": "44dQzVCc_gbZ"
      },
      "outputs": [],
      "source": [
        "crawled_sites = [\"https://www.cnn.com\",\"https://www.france24.com\",\"https://www.rt.com\",\"https://www.bbc.com\",\"https://aljazeera.net\"]\n",
        "\n"
      ]
    }
  ]
}