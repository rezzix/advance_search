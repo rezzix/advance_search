{
  "nbformat": 4,
  "nbformat_minor": 0,
  "metadata": {
    "colab": {
      "name": "rss_feed_scraper.ipynb",
      "provenance": [],
      "collapsed_sections": [],
      "authorship_tag": "ABX9TyMxQnjuk0ggJEHRma9OeFyD",
      "include_colab_link": true
    },
    "kernelspec": {
      "name": "python3",
      "display_name": "Python 3"
    },
    "language_info": {
      "name": "python"
    }
  },
  "cells": [
    {
      "cell_type": "markdown",
      "metadata": {
        "id": "view-in-github",
        "colab_type": "text"
      },
      "source": [
        "<a href=\"https://colab.research.google.com/github/rezzix/advance_search/blob/main/rss_feed_scraper.ipynb\" target=\"_parent\"><img src=\"https://colab.research.google.com/assets/colab-badge.svg\" alt=\"Open In Colab\"/></a>"
      ]
    },
    {
      "cell_type": "code",
      "execution_count": null,
      "metadata": {
        "id": "pJfhjYProdRS"
      },
      "outputs": [],
      "source": [
        "# feeds from https://blog.feedspot.com/world_news_rss_feeds/\n",
        "\n",
        "scraped_feeds=[\"http://feeds.bbci.co.uk/news/world/rss.xml\",\"https://www.nytimes.com/svc/collections/v1/publish/https://www.nytimes.com/section/world/rss.xml\",\"http://www.aljazeera.com/xml/rss/all.xml\"]\n"
      ]
    }
  ]
}