{
  "nbformat": 4,
  "nbformat_minor": 0,
  "metadata": {
    "colab": {
      "name": "rss_feed_scraper.ipynb",
      "provenance": [],
      "collapsed_sections": [],
      "authorship_tag": "ABX9TyPblJJRME3Kof3irG5I614k",
      "include_colab_link": true
    },
    "kernelspec": {
      "name": "python3",
      "display_name": "Python 3"
    },
    "language_info": {
      "name": "python"
    }
  },
  "cells": [
    {
      "cell_type": "markdown",
      "metadata": {
        "id": "view-in-github",
        "colab_type": "text"
      },
      "source": [
        "<a href=\"https://colab.research.google.com/github/rezzix/advance_search/blob/main/rss_feed_scraper.ipynb\" target=\"_parent\"><img src=\"https://colab.research.google.com/assets/colab-badge.svg\" alt=\"Open In Colab\"/></a>"
      ]
    },
    {
      "cell_type": "code",
      "execution_count": 13,
      "metadata": {
        "id": "pJfhjYProdRS"
      },
      "outputs": [],
      "source": [
        "# feeds from https://blog.feedspot.com/world_news_rss_feeds/\n",
        "\n",
        "scraped_feeds=[\"http://feeds.bbci.co.uk/news/world/rss.xml\",\"https://www.nytimes.com/svc/collections/v1/publish/https://www.nytimes.com/section/world/rss.xml\",\"http://www.aljazeera.com/xml/rss/all.xml\"]\n"
      ]
    },
    {
      "cell_type": "code",
      "source": [
        "pip install requests"
      ],
      "metadata": {
        "colab": {
          "base_uri": "https://localhost:8080/"
        },
        "id": "o2gfZADdxwSp",
        "outputId": "a8806eb0-aca6-4c7c-8d76-8a9b0af78c0e"
      },
      "execution_count": 1,
      "outputs": [
        {
          "output_type": "stream",
          "name": "stdout",
          "text": [
            "Requirement already satisfied: requests in /usr/local/lib/python3.7/dist-packages (2.23.0)\n",
            "Requirement already satisfied: chardet<4,>=3.0.2 in /usr/local/lib/python3.7/dist-packages (from requests) (3.0.4)\n",
            "Requirement already satisfied: certifi>=2017.4.17 in /usr/local/lib/python3.7/dist-packages (from requests) (2021.10.8)\n",
            "Requirement already satisfied: idna<3,>=2.5 in /usr/local/lib/python3.7/dist-packages (from requests) (2.10)\n",
            "Requirement already satisfied: urllib3!=1.25.0,!=1.25.1,<1.26,>=1.21.1 in /usr/local/lib/python3.7/dist-packages (from requests) (1.24.3)\n"
          ]
        }
      ]
    },
    {
      "cell_type": "code",
      "source": [
        "pip install bs4"
      ],
      "metadata": {
        "colab": {
          "base_uri": "https://localhost:8080/"
        },
        "id": "xJg9nRhqxyjm",
        "outputId": "b2cd8be4-5c6e-41b3-c554-1763947e58bf"
      },
      "execution_count": 2,
      "outputs": [
        {
          "output_type": "stream",
          "name": "stdout",
          "text": [
            "Requirement already satisfied: bs4 in /usr/local/lib/python3.7/dist-packages (0.0.1)\n",
            "Requirement already satisfied: beautifulsoup4 in /usr/local/lib/python3.7/dist-packages (from bs4) (4.6.3)\n"
          ]
        }
      ]
    },
    {
      "cell_type": "code",
      "source": [
        "import requests\n",
        "from bs4 import BeautifulSoup"
      ],
      "metadata": {
        "id": "8AkEGFdcx6YX"
      },
      "execution_count": 3,
      "outputs": []
    },
    {
      "cell_type": "code",
      "source": [
        "# scraping function\n",
        "def hackernews_rss(url):\n",
        "    article_list = []\n",
        "    try:\n",
        "        r = requests.get(url)\n",
        "        soup = BeautifulSoup(r.content, features='xml')\n",
        "        articles = soup.findAll('item')        \n",
        "        for a in articles:\n",
        "            title = a.find('title').text\n",
        "            link = a.find('link').text\n",
        "            published = a.find('pubDate').text\n",
        "            article = {\n",
        "                'title': title,\n",
        "                'link': link,\n",
        "                'published': published\n",
        "                }\n",
        "            article_list.append(article)\n",
        "        return article_list\n",
        "    except Exception as e:\n",
        "        print('The scraping job failed. See exception: ')\n",
        "        print(e)\n",
        "\n",
        "print('Starting scraping')\n",
        "all_article = []\n",
        "for url in scraped_feeds :\n",
        "  all_article = all_article + hackernews_rss(url)\n",
        "print('Finished scraping')\n",
        "\n",
        "save_function(all_article)"
      ],
      "metadata": {
        "colab": {
          "base_uri": "https://localhost:8080/"
        },
        "id": "muNnl9DxyGnE",
        "outputId": "cdf33eaa-22cf-4d71-b273-6dc730e5facb"
      },
      "execution_count": 14,
      "outputs": [
        {
          "output_type": "stream",
          "name": "stdout",
          "text": [
            "Starting scraping\n",
            "Finished scraping\n"
          ]
        }
      ]
    },
    {
      "cell_type": "code",
      "source": [
        "import json\n",
        "\n",
        "def save_function(article_list):\n",
        "    with open('articles.txt', 'w') as outfile:\n",
        "        json.dump(article_list, outfile)"
      ],
      "metadata": {
        "id": "Pnu35JlHyOkq"
      },
      "execution_count": 9,
      "outputs": []
    }
  ]
}